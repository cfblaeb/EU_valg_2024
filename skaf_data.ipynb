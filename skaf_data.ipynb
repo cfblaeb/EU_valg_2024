{
 "cells": [
  {
   "cell_type": "code",
   "execution_count": 15,
   "id": "33277b2d-e85f-407c-9751-4fd537bff346",
   "metadata": {},
   "outputs": [],
   "source": [
    "from requests import get\n",
    "import pandas as pd\n",
    "import pickle, json\n",
    "import numpy as np"
   ]
  },
  {
   "cell_type": "code",
   "execution_count": 16,
   "id": "46777e3a-bb71-4478-8c6e-518480f26376",
   "metadata": {},
   "outputs": [],
   "source": [
    "# første sted...TV2!"
   ]
  },
  {
   "cell_type": "code",
   "execution_count": 17,
   "id": "611bbf19-daa1-4782-9159-520af1d7a243",
   "metadata": {},
   "outputs": [],
   "source": [
    "tv2_rå_svar = get(\"https://election-api.services.tv2.dk/ep/ep24/candidatetest/answers/999\").json()"
   ]
  },
  {
   "cell_type": "code",
   "execution_count": 18,
   "id": "686fabae-309e-4497-a6c7-58a3a0945978",
   "metadata": {},
   "outputs": [],
   "source": [
    "tv2_spg = [ '1a', '1b', '2a', '2b', '3a', '3b', '4a', '4b', '5a', '5b', '6a', '6b', '7a', '7b', '8a', '8b', '9a', '9b', '10a', '10b', '11a', '11b']"
   ]
  },
  {
   "cell_type": "code",
   "execution_count": 19,
   "id": "75c30cca-33ec-49ad-af5f-e1d9693ea624",
   "metadata": {},
   "outputs": [],
   "source": [
    "# smæk det hele pænt sammen\n",
    "\n",
    "tv2_svar = {}\n",
    "tv2_kandidater = {}\n",
    "for kandidat in tv2_rå_svar:\n",
    "    tv2_kandidater[kandidat['id']] = {'navn': kandidat['name'], 'parti': kandidat['partyName'], 'job': kandidat['occupation'], 'alder': kandidat['age']}\n",
    "    tv2_svar[kandidat['id']] = {x: kandidat['answers'][x]['answer'] for x in tv2_spg if x in kandidat['answers']}\n",
    "tv2_kandidater = pd.DataFrame(tv2_kandidater).T\n",
    "tv2_svar = pd.DataFrame(tv2_svar).T"
   ]
  },
  {
   "cell_type": "code",
   "execution_count": 20,
   "id": "bdecb152-925b-4f12-87b1-c8df308b05ba",
   "metadata": {},
   "outputs": [],
   "source": [
    "# norm mellem 0 og 1\n",
    "ma = tv2_svar.max()\n",
    "mi = tv2_svar.min()\n",
    "tv2_svar = (tv2_svar-mi)/(ma-mi)"
   ]
  },
  {
   "cell_type": "code",
   "execution_count": 21,
   "id": "b2472102-f81b-4ce4-86c9-0b6e8334778b",
   "metadata": {},
   "outputs": [],
   "source": [
    "q = tv2_svar.copy()\n",
    "q['parti'] = [tv2_kandidater.loc[x, 'parti'] for x in tv2_svar.index]\n",
    "q['navn'] = [tv2_kandidater.loc[x, 'navn'] for x in tv2_svar.index]\n",
    "q['job'] = [tv2_kandidater.loc[x, 'job'] for x in tv2_svar.index]\n",
    "q['alder'] = [tv2_kandidater.loc[x, 'alder'] for x in tv2_svar.index]\n",
    "#q.parti.replace(\"Konservative\", \"Det Konservative Folkeparti\", inplace=True)"
   ]
  },
  {
   "cell_type": "code",
   "execution_count": null,
   "id": "2b3c299a-97b9-4e79-a326-1081d75e1ee6",
   "metadata": {},
   "outputs": [],
   "source": []
  },
  {
   "cell_type": "code",
   "execution_count": 3,
   "id": "e20b4d48-57e7-4268-a485-278a2788287b",
   "metadata": {},
   "outputs": [],
   "source": [
    "# DR's data er...mere gemt...men jeg fandt en acceptabel måde at hive det ud på via scrapy\n",
    "\n",
    "objects = []\n",
    "with (open(\"TakeTheDR/dr.pickle\", \"rb\")) as openfile:\n",
    "    while True:\n",
    "        try:\n",
    "            objects.append(pickle.load(openfile))\n",
    "        except EOFError:\n",
    "            break"
   ]
  },
  {
   "cell_type": "code",
   "execution_count": 4,
   "id": "b2534a10-b7f0-4792-93ea-1cb6603179ac",
   "metadata": {},
   "outputs": [
    {
     "data": {
      "text/plain": [
       "0\n",
       "25    165\n",
       "0       4\n",
       "Name: count, dtype: int64"
      ]
     },
     "execution_count": 4,
     "metadata": {},
     "output_type": "execute_result"
    }
   ],
   "source": [
    "pd.DataFrame([[len(y) for y in x['kandidat']] for x in objects])[0].value_counts()"
   ]
  },
  {
   "cell_type": "code",
   "execution_count": 5,
   "id": "9abe4618-f7d7-4c43-b584-96c9b0218bab",
   "metadata": {},
   "outputs": [],
   "source": [
    "# 165 har svaret.\n",
    "\n",
    "# Vi beholder kun dem der har svaret.\n",
    "objects = [x['kandidat'] for x in objects if x['kandidat'][0]]"
   ]
  },
  {
   "cell_type": "code",
   "execution_count": 6,
   "id": "efccb236-ee7a-46fc-b3e5-88ac293e6826",
   "metadata": {},
   "outputs": [
    {
     "data": {
      "text/plain": [
       "0"
      ]
     },
     "execution_count": 6,
     "metadata": {},
     "output_type": "execute_result"
    }
   ],
   "source": [
    "sum(pd.Series([pd.DataFrame(x[0])['Answer'].sum() for x in objects])==0)\n",
    "# alle hare svaret"
   ]
  },
  {
   "cell_type": "code",
   "execution_count": 8,
   "id": "cc485d2e-2976-424e-b8e6-45d49c1d5739",
   "metadata": {},
   "outputs": [
    {
     "data": {
      "text/plain": [
       "165"
      ]
     },
     "execution_count": 8,
     "metadata": {},
     "output_type": "execute_result"
    }
   ],
   "source": [
    "#objects = [x for x in objects if pd.DataFrame(x[0])['Answer'].sum() != 0]\n",
    "#len(objects)\n",
    "#"
   ]
  },
  {
   "cell_type": "code",
   "execution_count": 13,
   "id": "ee076766-8344-459e-933d-9955d41ff179",
   "metadata": {},
   "outputs": [],
   "source": [
    "bogstaver = json.load(open('various.json'))['bogstav_leg']\n",
    "\n",
    "dr_data = []\n",
    "for i, dd in enumerate(objects):\n",
    "    person = {'navn': \" \".join([dd[1]['Firstname'], dd[1]['LastName']]), 'parti': bogstaver[dd[1]['CurrentPartyCode']]}\n",
    "    svar = (pd.DataFrame(dd[0])[['QuestionID', 'Answer']].set_index('QuestionID').T-1)/4\n",
    "    svar.columns = svar.columns.astype('str')\n",
    "    svar['navn'] = person['navn']\n",
    "    svar['parti'] = person['parti']\n",
    "    svar.index = [f'DR{i}']\n",
    "    dr_data.append(svar)\n",
    "dr_df = pd.concat(dr_data)\n",
    "dr_df = dr_df.replace(-0.25, np.nan)"
   ]
  },
  {
   "cell_type": "code",
   "execution_count": 14,
   "id": "b1de3d25-87df-432d-8070-180b025b6241",
   "metadata": {},
   "outputs": [
    {
     "data": {
      "text/html": [
       "<div>\n",
       "<style scoped>\n",
       "    .dataframe tbody tr th:only-of-type {\n",
       "        vertical-align: middle;\n",
       "    }\n",
       "\n",
       "    .dataframe tbody tr th {\n",
       "        vertical-align: top;\n",
       "    }\n",
       "\n",
       "    .dataframe thead th {\n",
       "        text-align: right;\n",
       "    }\n",
       "</style>\n",
       "<table border=\"1\" class=\"dataframe\">\n",
       "  <thead>\n",
       "    <tr style=\"text-align: right;\">\n",
       "      <th>QuestionID</th>\n",
       "      <th>608</th>\n",
       "      <th>609</th>\n",
       "      <th>612</th>\n",
       "      <th>613</th>\n",
       "      <th>614</th>\n",
       "      <th>615</th>\n",
       "      <th>616</th>\n",
       "      <th>617</th>\n",
       "      <th>618</th>\n",
       "      <th>620</th>\n",
       "      <th>...</th>\n",
       "      <th>631</th>\n",
       "      <th>634</th>\n",
       "      <th>636</th>\n",
       "      <th>637</th>\n",
       "      <th>639</th>\n",
       "      <th>641</th>\n",
       "      <th>644</th>\n",
       "      <th>646</th>\n",
       "      <th>navn</th>\n",
       "      <th>parti</th>\n",
       "    </tr>\n",
       "  </thead>\n",
       "  <tbody>\n",
       "    <tr>\n",
       "      <th>DR0</th>\n",
       "      <td>1.0</td>\n",
       "      <td>0.00</td>\n",
       "      <td>1.00</td>\n",
       "      <td>1.00</td>\n",
       "      <td>0.25</td>\n",
       "      <td>0.25</td>\n",
       "      <td>0.00</td>\n",
       "      <td>1.00</td>\n",
       "      <td>0.00</td>\n",
       "      <td>0.75</td>\n",
       "      <td>...</td>\n",
       "      <td>0.25</td>\n",
       "      <td>1.00</td>\n",
       "      <td>1.00</td>\n",
       "      <td>1.00</td>\n",
       "      <td>1.00</td>\n",
       "      <td>0.75</td>\n",
       "      <td>0.25</td>\n",
       "      <td>1.00</td>\n",
       "      <td>Andi Helbo Sejersen</td>\n",
       "      <td>Socialdemokratiet</td>\n",
       "    </tr>\n",
       "    <tr>\n",
       "      <th>DR1</th>\n",
       "      <td>1.0</td>\n",
       "      <td>0.25</td>\n",
       "      <td>1.00</td>\n",
       "      <td>1.00</td>\n",
       "      <td>0.75</td>\n",
       "      <td>0.75</td>\n",
       "      <td>0.75</td>\n",
       "      <td>1.00</td>\n",
       "      <td>0.00</td>\n",
       "      <td>0.25</td>\n",
       "      <td>...</td>\n",
       "      <td>0.00</td>\n",
       "      <td>1.00</td>\n",
       "      <td>1.00</td>\n",
       "      <td>1.00</td>\n",
       "      <td>0.75</td>\n",
       "      <td>0.75</td>\n",
       "      <td>0.75</td>\n",
       "      <td>0.75</td>\n",
       "      <td>Magnus Barsøe</td>\n",
       "      <td>Socialdemokratiet</td>\n",
       "    </tr>\n",
       "    <tr>\n",
       "      <th>DR2</th>\n",
       "      <td>1.0</td>\n",
       "      <td>0.00</td>\n",
       "      <td>0.75</td>\n",
       "      <td>1.00</td>\n",
       "      <td>1.00</td>\n",
       "      <td>0.75</td>\n",
       "      <td>0.75</td>\n",
       "      <td>1.00</td>\n",
       "      <td>0.00</td>\n",
       "      <td>0.00</td>\n",
       "      <td>...</td>\n",
       "      <td>0.00</td>\n",
       "      <td>0.25</td>\n",
       "      <td>1.00</td>\n",
       "      <td>1.00</td>\n",
       "      <td>0.75</td>\n",
       "      <td>0.25</td>\n",
       "      <td>0.25</td>\n",
       "      <td>1.00</td>\n",
       "      <td>Philip Tarning-Andersen</td>\n",
       "      <td>Radikale Venstre</td>\n",
       "    </tr>\n",
       "    <tr>\n",
       "      <th>DR3</th>\n",
       "      <td>1.0</td>\n",
       "      <td>0.25</td>\n",
       "      <td>0.75</td>\n",
       "      <td>1.00</td>\n",
       "      <td>0.75</td>\n",
       "      <td>0.75</td>\n",
       "      <td>0.25</td>\n",
       "      <td>0.75</td>\n",
       "      <td>0.00</td>\n",
       "      <td>0.75</td>\n",
       "      <td>...</td>\n",
       "      <td>0.25</td>\n",
       "      <td>1.00</td>\n",
       "      <td>0.75</td>\n",
       "      <td>1.00</td>\n",
       "      <td>0.25</td>\n",
       "      <td>0.75</td>\n",
       "      <td>0.75</td>\n",
       "      <td>0.25</td>\n",
       "      <td>Christel Schaldemose</td>\n",
       "      <td>Socialdemokratiet</td>\n",
       "    </tr>\n",
       "    <tr>\n",
       "      <th>DR4</th>\n",
       "      <td>1.0</td>\n",
       "      <td>0.00</td>\n",
       "      <td>0.75</td>\n",
       "      <td>1.00</td>\n",
       "      <td>1.00</td>\n",
       "      <td>1.00</td>\n",
       "      <td>0.25</td>\n",
       "      <td>1.00</td>\n",
       "      <td>0.00</td>\n",
       "      <td>0.25</td>\n",
       "      <td>...</td>\n",
       "      <td>0.25</td>\n",
       "      <td>0.25</td>\n",
       "      <td>1.00</td>\n",
       "      <td>1.00</td>\n",
       "      <td>0.75</td>\n",
       "      <td>0.75</td>\n",
       "      <td>0.25</td>\n",
       "      <td>1.00</td>\n",
       "      <td>Anne Sophie Callesen</td>\n",
       "      <td>Radikale Venstre</td>\n",
       "    </tr>\n",
       "    <tr>\n",
       "      <th>...</th>\n",
       "      <td>...</td>\n",
       "      <td>...</td>\n",
       "      <td>...</td>\n",
       "      <td>...</td>\n",
       "      <td>...</td>\n",
       "      <td>...</td>\n",
       "      <td>...</td>\n",
       "      <td>...</td>\n",
       "      <td>...</td>\n",
       "      <td>...</td>\n",
       "      <td>...</td>\n",
       "      <td>...</td>\n",
       "      <td>...</td>\n",
       "      <td>...</td>\n",
       "      <td>...</td>\n",
       "      <td>...</td>\n",
       "      <td>...</td>\n",
       "      <td>...</td>\n",
       "      <td>...</td>\n",
       "      <td>...</td>\n",
       "      <td>...</td>\n",
       "    </tr>\n",
       "    <tr>\n",
       "      <th>DR160</th>\n",
       "      <td>1.0</td>\n",
       "      <td>0.00</td>\n",
       "      <td>0.75</td>\n",
       "      <td>1.00</td>\n",
       "      <td>1.00</td>\n",
       "      <td>0.75</td>\n",
       "      <td>0.25</td>\n",
       "      <td>1.00</td>\n",
       "      <td>0.00</td>\n",
       "      <td>0.25</td>\n",
       "      <td>...</td>\n",
       "      <td>0.25</td>\n",
       "      <td>0.75</td>\n",
       "      <td>0.75</td>\n",
       "      <td>1.00</td>\n",
       "      <td>0.75</td>\n",
       "      <td>0.75</td>\n",
       "      <td>0.25</td>\n",
       "      <td>1.00</td>\n",
       "      <td>Jens Frost</td>\n",
       "      <td>Radikale Venstre</td>\n",
       "    </tr>\n",
       "    <tr>\n",
       "      <th>DR161</th>\n",
       "      <td>1.0</td>\n",
       "      <td>0.00</td>\n",
       "      <td>0.25</td>\n",
       "      <td>0.75</td>\n",
       "      <td>0.75</td>\n",
       "      <td>0.75</td>\n",
       "      <td>0.75</td>\n",
       "      <td>0.75</td>\n",
       "      <td>0.25</td>\n",
       "      <td>0.25</td>\n",
       "      <td>...</td>\n",
       "      <td>0.25</td>\n",
       "      <td>0.00</td>\n",
       "      <td>0.25</td>\n",
       "      <td>0.75</td>\n",
       "      <td>0.75</td>\n",
       "      <td>0.25</td>\n",
       "      <td>0.25</td>\n",
       "      <td>1.00</td>\n",
       "      <td>Hediye Temiz</td>\n",
       "      <td>Radikale Venstre</td>\n",
       "    </tr>\n",
       "    <tr>\n",
       "      <th>DR162</th>\n",
       "      <td>1.0</td>\n",
       "      <td>0.00</td>\n",
       "      <td>0.75</td>\n",
       "      <td>1.00</td>\n",
       "      <td>1.00</td>\n",
       "      <td>0.75</td>\n",
       "      <td>0.25</td>\n",
       "      <td>0.75</td>\n",
       "      <td>0.00</td>\n",
       "      <td>0.25</td>\n",
       "      <td>...</td>\n",
       "      <td>0.25</td>\n",
       "      <td>0.75</td>\n",
       "      <td>1.00</td>\n",
       "      <td>1.00</td>\n",
       "      <td>0.75</td>\n",
       "      <td>0.75</td>\n",
       "      <td>0.25</td>\n",
       "      <td>1.00</td>\n",
       "      <td>Kathrine Olldag</td>\n",
       "      <td>Radikale Venstre</td>\n",
       "    </tr>\n",
       "    <tr>\n",
       "      <th>DR163</th>\n",
       "      <td>1.0</td>\n",
       "      <td>0.00</td>\n",
       "      <td>0.75</td>\n",
       "      <td>0.75</td>\n",
       "      <td>0.75</td>\n",
       "      <td>0.75</td>\n",
       "      <td>0.25</td>\n",
       "      <td>1.00</td>\n",
       "      <td>0.00</td>\n",
       "      <td>0.75</td>\n",
       "      <td>...</td>\n",
       "      <td>0.25</td>\n",
       "      <td>0.75</td>\n",
       "      <td>0.75</td>\n",
       "      <td>0.75</td>\n",
       "      <td>0.75</td>\n",
       "      <td>0.25</td>\n",
       "      <td>0.75</td>\n",
       "      <td>0.75</td>\n",
       "      <td>Frederik Aagaard Sørensen</td>\n",
       "      <td>Radikale Venstre</td>\n",
       "    </tr>\n",
       "    <tr>\n",
       "      <th>DR164</th>\n",
       "      <td>1.0</td>\n",
       "      <td>0.00</td>\n",
       "      <td>0.75</td>\n",
       "      <td>1.00</td>\n",
       "      <td>1.00</td>\n",
       "      <td>1.00</td>\n",
       "      <td>0.25</td>\n",
       "      <td>1.00</td>\n",
       "      <td>0.00</td>\n",
       "      <td>0.00</td>\n",
       "      <td>...</td>\n",
       "      <td>0.25</td>\n",
       "      <td>1.00</td>\n",
       "      <td>0.75</td>\n",
       "      <td>1.00</td>\n",
       "      <td>1.00</td>\n",
       "      <td>0.25</td>\n",
       "      <td>0.25</td>\n",
       "      <td>1.00</td>\n",
       "      <td>Charlotte Amdi Burgess</td>\n",
       "      <td>Radikale Venstre</td>\n",
       "    </tr>\n",
       "  </tbody>\n",
       "</table>\n",
       "<p>165 rows × 27 columns</p>\n",
       "</div>"
      ],
      "text/plain": [
       "QuestionID  608   609   612   613   614   615   616   617   618   620  ...  \\\n",
       "DR0         1.0  0.00  1.00  1.00  0.25  0.25  0.00  1.00  0.00  0.75  ...   \n",
       "DR1         1.0  0.25  1.00  1.00  0.75  0.75  0.75  1.00  0.00  0.25  ...   \n",
       "DR2         1.0  0.00  0.75  1.00  1.00  0.75  0.75  1.00  0.00  0.00  ...   \n",
       "DR3         1.0  0.25  0.75  1.00  0.75  0.75  0.25  0.75  0.00  0.75  ...   \n",
       "DR4         1.0  0.00  0.75  1.00  1.00  1.00  0.25  1.00  0.00  0.25  ...   \n",
       "...         ...   ...   ...   ...   ...   ...   ...   ...   ...   ...  ...   \n",
       "DR160       1.0  0.00  0.75  1.00  1.00  0.75  0.25  1.00  0.00  0.25  ...   \n",
       "DR161       1.0  0.00  0.25  0.75  0.75  0.75  0.75  0.75  0.25  0.25  ...   \n",
       "DR162       1.0  0.00  0.75  1.00  1.00  0.75  0.25  0.75  0.00  0.25  ...   \n",
       "DR163       1.0  0.00  0.75  0.75  0.75  0.75  0.25  1.00  0.00  0.75  ...   \n",
       "DR164       1.0  0.00  0.75  1.00  1.00  1.00  0.25  1.00  0.00  0.00  ...   \n",
       "\n",
       "QuestionID   631   634   636   637   639   641   644   646  \\\n",
       "DR0         0.25  1.00  1.00  1.00  1.00  0.75  0.25  1.00   \n",
       "DR1         0.00  1.00  1.00  1.00  0.75  0.75  0.75  0.75   \n",
       "DR2         0.00  0.25  1.00  1.00  0.75  0.25  0.25  1.00   \n",
       "DR3         0.25  1.00  0.75  1.00  0.25  0.75  0.75  0.25   \n",
       "DR4         0.25  0.25  1.00  1.00  0.75  0.75  0.25  1.00   \n",
       "...          ...   ...   ...   ...   ...   ...   ...   ...   \n",
       "DR160       0.25  0.75  0.75  1.00  0.75  0.75  0.25  1.00   \n",
       "DR161       0.25  0.00  0.25  0.75  0.75  0.25  0.25  1.00   \n",
       "DR162       0.25  0.75  1.00  1.00  0.75  0.75  0.25  1.00   \n",
       "DR163       0.25  0.75  0.75  0.75  0.75  0.25  0.75  0.75   \n",
       "DR164       0.25  1.00  0.75  1.00  1.00  0.25  0.25  1.00   \n",
       "\n",
       "QuestionID                       navn              parti  \n",
       "DR0               Andi Helbo Sejersen  Socialdemokratiet  \n",
       "DR1                     Magnus Barsøe  Socialdemokratiet  \n",
       "DR2           Philip Tarning-Andersen   Radikale Venstre  \n",
       "DR3              Christel Schaldemose  Socialdemokratiet  \n",
       "DR4              Anne Sophie Callesen   Radikale Venstre  \n",
       "...                               ...                ...  \n",
       "DR160                      Jens Frost   Radikale Venstre  \n",
       "DR161                    Hediye Temiz   Radikale Venstre  \n",
       "DR162                 Kathrine Olldag   Radikale Venstre  \n",
       "DR163       Frederik Aagaard Sørensen   Radikale Venstre  \n",
       "DR164          Charlotte Amdi Burgess   Radikale Venstre  \n",
       "\n",
       "[165 rows x 27 columns]"
      ]
     },
     "execution_count": 14,
     "metadata": {},
     "output_type": "execute_result"
    }
   ],
   "source": [
    "dr_df"
   ]
  },
  {
   "cell_type": "code",
   "execution_count": 22,
   "id": "44a22316-034c-4c59-b9f7-32224244d79b",
   "metadata": {},
   "outputs": [],
   "source": [
    "all_data = dr_df.merge(q, on=['navn', 'parti'])"
   ]
  },
  {
   "cell_type": "code",
   "execution_count": 23,
   "id": "d0e85ef5-7fb9-433c-baef-fb78222d4d05",
   "metadata": {},
   "outputs": [
    {
     "data": {
      "text/plain": [
       "37"
      ]
     },
     "execution_count": 23,
     "metadata": {},
     "output_type": "execute_result"
    }
   ],
   "source": [
    "alle_navne = pd.concat([dr_df.navn, q.navn])\n",
    "folk_mangler = alle_navne[~alle_navne.isin(all_data.navn)]\n",
    "len(folk_mangler)"
   ]
  },
  {
   "cell_type": "code",
   "execution_count": 24,
   "id": "d2776b41-0288-4e79-9086-15115a899001",
   "metadata": {},
   "outputs": [],
   "source": [
    "flatten=lambda l: sum(map(flatten,l),[]) if isinstance(l,list) else [l]\n",
    "potids = {}\n",
    "noid = []\n",
    "for person in folk_mangler:\n",
    "    navne = person.split()\n",
    "    potid = []\n",
    "    for navn in navne:\n",
    "        liid = folk_mangler[folk_mangler.str.contains(navn)].to_list()\n",
    "        if len(liid) == 2:\n",
    "            potid.append(liid)\n",
    "    potid = list(set(flatten(potid)))\n",
    "    if potid:\n",
    "        potid.remove(person)\n",
    "        if len(potid) == 1:\n",
    "            potids[person] = potid[0]\n",
    "        else:\n",
    "            noid.append(person)\n",
    "    else:\n",
    "        noid.append(person)\n",
    "potids2 = {}\n",
    "for k, v in potids.items():\n",
    "    if v not in potids2:\n",
    "        potids2[k] = v"
   ]
  },
  {
   "cell_type": "code",
   "execution_count": 26,
   "id": "8861f1b6-5e05-4ffc-8551-f9802809a630",
   "metadata": {},
   "outputs": [
    {
     "data": {
      "text/plain": [
       "['Irina Bjørnø',\n",
       " 'Alexandra Sasha',\n",
       " 'Dea Kehler',\n",
       " 'Ivar Nørlund',\n",
       " 'Stine Steffensen']"
      ]
     },
     "execution_count": 26,
     "metadata": {},
     "output_type": "execute_result"
    }
   ],
   "source": [
    "noid"
   ]
  },
  {
   "cell_type": "code",
   "execution_count": 30,
   "id": "a0fd3171-0b29-4332-b567-95c9032e148a",
   "metadata": {},
   "outputs": [
    {
     "data": {
      "text/plain": [
       "{'Victoria Velasquez': 'Victoria Velásquez',\n",
       " 'Bob Richard Nielsen': 'Bob Nielsen',\n",
       " 'Annette Giuranna': 'Anette Giuranna',\n",
       " 'Benny Bindslev': 'Benny Binderslev',\n",
       " 'Marianne Lynghøj': 'Marianne Lynghøj Pedersen',\n",
       " 'Michael Nedersøe': 'Michael Kim Bladt Nedersøe',\n",
       " 'Anders Vistisen': 'Anders Primdahl Vistisen',\n",
       " 'Klavs A. Holm': 'Klavs A Holm',\n",
       " 'Tobias Marney': 'Tobias William Marney',\n",
       " 'Martin Sibast Laugesen': 'Martin Sibast',\n",
       " 'Lars Høyer Holmqvist': 'Lars Holmqvist',\n",
       " 'Emil Njor': 'Emil Jørgensen Njor',\n",
       " 'Jacob Stryhn': 'Jacob A G Stryhn',\n",
       " 'Egil Fabritius Hulgaard': 'Egil Hulgaard',\n",
       " 'Sissel Van Run-Kvist': 'Sissel van Run-Kvist',\n",
       " 'João A. B. R. Møller': 'João A.B. R. Møller'}"
      ]
     },
     "execution_count": 30,
     "metadata": {},
     "output_type": "execute_result"
    }
   ],
   "source": [
    "potids2"
   ]
  },
  {
   "cell_type": "code",
   "execution_count": 33,
   "id": "ddf654ae-b5c1-493f-8cb7-019b3176f6f8",
   "metadata": {},
   "outputs": [],
   "source": [
    "q.navn = q.navn.apply(lambda x: potids2[x] if x in potids2 else x)\n",
    "dr_df.navn = dr_df.navn.apply(lambda x: potids2[x] if x in potids2 else x)\n",
    "all_data = dr_df.merge(q, on=['navn', 'parti'])"
   ]
  },
  {
   "cell_type": "code",
   "execution_count": 34,
   "id": "7f0a629c-9de8-4b6e-9723-c7a19fe6e6a0",
   "metadata": {},
   "outputs": [
    {
     "data": {
      "text/plain": [
       "5"
      ]
     },
     "execution_count": 34,
     "metadata": {},
     "output_type": "execute_result"
    }
   ],
   "source": [
    "alle_navne = pd.concat([dr_df.navn, q.navn])\n",
    "folk_mangler = alle_navne[~alle_navne.isin(all_data.navn)]\n",
    "len(folk_mangler)"
   ]
  },
  {
   "cell_type": "code",
   "execution_count": 35,
   "id": "671f6073-8a19-45b3-9d19-c058b525d530",
   "metadata": {},
   "outputs": [
    {
     "data": {
      "text/plain": [
       "DR16         Irina Bjørnø\n",
       "DR66      Alexandra Sasha\n",
       "DR88           Dea Kehler\n",
       "16600        Ivar Nørlund\n",
       "16629    Stine Steffensen\n",
       "Name: navn, dtype: object"
      ]
     },
     "execution_count": 35,
     "metadata": {},
     "output_type": "execute_result"
    }
   ],
   "source": [
    "folk_mangler"
   ]
  },
  {
   "cell_type": "code",
   "execution_count": 39,
   "id": "2b3f33a5-9216-4d37-b12c-bcd80bfb8795",
   "metadata": {},
   "outputs": [],
   "source": [
    "# udfyld manglende svar med partiets gennemsnit\n",
    "dk_spg = ['608', '609', '612', '613', '614', '615', '616', '617', '618', '620',\n",
    "       '621', '622', '623', '626', '627', '629', '630', '631', '634', '636',\n",
    "       '637', '639', '641', '644', '646', '1a', '1b', '2a', '2b', '3a', '3b', '4a', '4b', '5a', '5b', '6a', '6b', '7a', '7b', '8a', '8b', '9a', '9b', '10a', '10b', '11a', '11b']\n",
    "parti_linjen = round(all_data.groupby('parti')[dk_spg].mean()*4)/4  # gennemsnitssvaret per parti, rundet til 1-5 (0-4) svarmulighederne\n",
    "\n",
    "def fald_ind(x):\n",
    "    x.loc[x[x.isna()].index] = parti_linjen.loc[x.parti, x[x.isna()].index]\n",
    "    return x\n",
    "    \n",
    "all_data_final = all_data.apply(fald_ind, axis=1)"
   ]
  },
  {
   "cell_type": "code",
   "execution_count": 40,
   "id": "4a12e5b8-fd69-448f-9dc9-46c2eb135ff0",
   "metadata": {},
   "outputs": [],
   "source": [
    "all_data_final.to_feather(\"2024_EP_Lasse_data.feather\")"
   ]
  },
  {
   "cell_type": "code",
   "execution_count": null,
   "id": "d6174bbd-e139-44c6-a5ae-32ac82b129e4",
   "metadata": {},
   "outputs": [],
   "source": []
  }
 ],
 "metadata": {
  "kernelspec": {
   "display_name": "Python 3 (ipykernel)",
   "language": "python",
   "name": "python3"
  },
  "language_info": {
   "codemirror_mode": {
    "name": "ipython",
    "version": 3
   },
   "file_extension": ".py",
   "mimetype": "text/x-python",
   "name": "python",
   "nbconvert_exporter": "python",
   "pygments_lexer": "ipython3",
   "version": "3.12.3"
  }
 },
 "nbformat": 4,
 "nbformat_minor": 5
}
