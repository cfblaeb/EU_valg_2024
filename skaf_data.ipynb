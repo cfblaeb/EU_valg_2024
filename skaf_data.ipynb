{
 "cells": [
  {
   "cell_type": "code",
   "execution_count": 9,
   "id": "33277b2d-e85f-407c-9751-4fd537bff346",
   "metadata": {},
   "outputs": [],
   "source": [
    "from requests import get\n",
    "import pandas as pd"
   ]
  },
  {
   "cell_type": "code",
   "execution_count": null,
   "id": "46777e3a-bb71-4478-8c6e-518480f26376",
   "metadata": {},
   "outputs": [],
   "source": [
    "# første sted...TV2!"
   ]
  },
  {
   "cell_type": "code",
   "execution_count": 25,
   "id": "611bbf19-daa1-4782-9159-520af1d7a243",
   "metadata": {},
   "outputs": [],
   "source": [
    "tv2_rå_svar = get(\"https://election-api.services.tv2.dk/ep/ep24/candidatetest/answers/999\").json()"
   ]
  },
  {
   "cell_type": "code",
   "execution_count": 26,
   "id": "686fabae-309e-4497-a6c7-58a3a0945978",
   "metadata": {},
   "outputs": [],
   "source": [
    "tv2_spg = [ '1a', '1b', '2a', '2b', '3a', '3b', '4a', '4b', '5a', '5b', '6a', '6b', '7a', '7b', '8a', '8b', '9a', '9b', '10a', '10b', '11a', '11b']"
   ]
  },
  {
   "cell_type": "code",
   "execution_count": 27,
   "id": "75c30cca-33ec-49ad-af5f-e1d9693ea624",
   "metadata": {},
   "outputs": [],
   "source": [
    "# smæk det hele pænt sammen\n",
    "\n",
    "tv2_svar = {}\n",
    "tv2_kandidater = {}\n",
    "for kandidat in tv2_rå_svar:\n",
    "    tv2_kandidater[kandidat['id']] = {'navn': kandidat['name'], 'parti': kandidat['partyName'], 'job': kandidat['occupation'], 'alder': kandidat['age']}\n",
    "    tv2_svar[kandidat['id']] = {x: kandidat['answers'][x]['answer'] for x in tv2_spg if x in kandidat['answers']}\n",
    "tv2_kandidater = pd.DataFrame(tv2_kandidater).T\n",
    "tv2_svar = pd.DataFrame(tv2_svar).T"
   ]
  },
  {
   "cell_type": "code",
   "execution_count": 28,
   "id": "bdecb152-925b-4f12-87b1-c8df308b05ba",
   "metadata": {},
   "outputs": [],
   "source": [
    "# norm mellem 0 og 1\n",
    "ma = tv2_svar.max()\n",
    "mi = tv2_svar.min()\n",
    "tv2_svar = (tv2_svar-mi)/(ma-mi)"
   ]
  },
  {
   "cell_type": "code",
   "execution_count": 30,
   "id": "b2472102-f81b-4ce4-86c9-0b6e8334778b",
   "metadata": {},
   "outputs": [],
   "source": [
    "q = tv2_svar.copy()\n",
    "q['parti'] = [tv2_kandidater.loc[x, 'parti'] for x in tv2_svar.index]\n",
    "q['navn'] = [tv2_kandidater.loc[x, 'navn'] for x in tv2_svar.index]\n",
    "q['job'] = [tv2_kandidater.loc[x, 'job'] for x in tv2_svar.index]\n",
    "q['alder'] = [tv2_kandidater.loc[x, 'alder'] for x in tv2_svar.index]\n",
    "#q.parti.replace(\"Konservative\", \"Det Konservative Folkeparti\", inplace=True)"
   ]
  },
  {
   "cell_type": "code",
   "execution_count": 32,
   "id": "55f56ab4-4d66-479a-8c36-b4693cf79f2c",
   "metadata": {},
   "outputs": [],
   "source": [
    "q.to_feather(\"2024_EU_Lasse_data.feather\")"
   ]
  },
  {
   "cell_type": "code",
   "execution_count": null,
   "id": "2b3c299a-97b9-4e79-a326-1081d75e1ee6",
   "metadata": {},
   "outputs": [],
   "source": [
    "https://web.tv2a.dk/bundles/3452.4e7453363cc73ec7.js"
   ]
  }
 ],
 "metadata": {
  "kernelspec": {
   "display_name": "Python 3 (ipykernel)",
   "language": "python",
   "name": "python3"
  },
  "language_info": {
   "codemirror_mode": {
    "name": "ipython",
    "version": 3
   },
   "file_extension": ".py",
   "mimetype": "text/x-python",
   "name": "python",
   "nbconvert_exporter": "python",
   "pygments_lexer": "ipython3",
   "version": "3.12.3"
  }
 },
 "nbformat": 4,
 "nbformat_minor": 5
}
